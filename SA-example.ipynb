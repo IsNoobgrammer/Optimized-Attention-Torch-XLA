{
 "cells": [
  {
   "cell_type": "code",
   "execution_count": null,
   "metadata": {},
   "outputs": [],
   "source": [
    "from sa_xla import SplashAttentionWrapper,SPLASH_ATTENTION_AVAILABLE,SplashAttentionConfig\n",
    "from transformers.models.qwen2.modeling_qwen2 import apply_rotary_pos_emb ## some may have thier own \n",
    "model = AutoModelForCausalLM.from_pretrained(MODEL,torch_dtype=torch.bfloat16,trust_remote_code=True)\n",
    "\n",
    "for layer in model.model.layers:\n",
    "    xs.apply_backward_optimization_barrier(layer)\n",
    " \n",
    "logits_soft_cap: Optional[float] = None\n",
    "\n",
    "## mesh is ((fsdp,4),(data,1)) \n",
    "## Splash need doesn't support 2D mesh yet \n",
    "### Similar to Flash Attetion ; GQA and AdamW Simultaneously not supported \n",
    "## Requires torch-xla,torch-xla['pallas'] and torchax \n",
    "   \n",
    "with torch.no_grad():\n",
    "    if SPLASH_ATTENTION_AVAILABLE:\n",
    "\n",
    "        config_default=SplashAttentionConfig(\n",
    "            mesh=str(xs.get_global_mesh()),\n",
    "            qkv_partition_spec=((\"fsdp\", \"data\"),None ,None, None),\n",
    "            segment_ids_partition_spec=((\"fsdp\", \"data\"),None))\n",
    "                \n",
    "        config_2048 = SplashAttentionConfig(\n",
    "            mesh=str(xs.get_global_mesh()),\n",
    "            qkv_partition_spec=((\"fsdp\", \"data\"),None ,None, None),\n",
    "            segment_ids_partition_spec=((\"fsdp\", \"data\"),None),\n",
    "            sa_block_q=512,\n",
    "            sa_block_kv=512,\n",
    "            sa_block_kv_compute=512,\n",
    "            sa_block_q_dkv=512,\n",
    "            sa_block_kv_dkv=512,\n",
    "            sa_block_kv_dkv_compute=512,\n",
    "            sa_block_q_dq=512,\n",
    "            sa_block_kv_dq=512,\n",
    "        )\n",
    "        \n",
    "        config_1024 = SplashAttentionConfig(  ## use this for large context size\n",
    "            mesh=str(xs.get_global_mesh()),\n",
    "            qkv_partition_spec=((\"fsdp\", \"data\"),None ,None, None),\n",
    "            segment_ids_partition_spec=((\"fsdp\", \"data\"),None),\n",
    "            sa_block_q=256,\n",
    "            sa_block_kv=256,\n",
    "            sa_block_kv_compute=256,\n",
    "            sa_block_q_dkv=256,\n",
    "            sa_block_kv_dkv=256,\n",
    "            sa_block_kv_dkv_compute=256,\n",
    "            sa_block_q_dq=256,\n",
    "            sa_block_kv_dq=256,\n",
    "        )\n",
    "        \n",
    "\n",
    "        old_atten_config=[]\n",
    "        \n",
    "        for layer in model.model.layers:\n",
    "            original_attention = layer.self_attn\n",
    "\n",
    "            layer.self_attn = SplashAttentionWrapper(original_attention, config=config_2048,\n",
    "                                logits_soft_cap=logits_soft_cap,rotatry_func=apply_rotary_pos_emb)\n",
    "\n",
    "            old_atten_config.append(original_attention)\n",
    "        \n",
    "        print(\"Applied Splash Attention for TPU ; Saved Old Attention config for replacement after training\")\n"
   ]
  },
  {
   "cell_type": "code",
   "execution_count": null,
   "metadata": {},
   "outputs": [],
   "source": [
    "## train...."
   ]
  },
  {
   "cell_type": "code",
   "execution_count": null,
   "metadata": {},
   "outputs": [],
   "source": [
    "# Unwrap the XLA Flash Attention\n",
    "model = model.cpu()\n",
    "if SPLASH_ATTENTION_AVAILABLE :\n",
    "    try:\n",
    "        for index,attn in enumerate(old_atten_config):\n",
    "            model.model.layers[index].self_attn=attn\n",
    "        print(\"Replaced SplashAttentionWrapper With Original Attention Implementation\")\n",
    "    except:\n",
    "        print(\"Unable to Replace SplashAttentionWrapper With Original Attention Implementation\")\n",
    "    model = model.cpu()\n",
    "\n"
   ]
  }
 ],
 "metadata": {
  "kernelspec": {
   "display_name": "base",
   "language": "python",
   "name": "python3"
  },
  "language_info": {
   "name": "python",
   "version": "3.12.4"
  }
 },
 "nbformat": 4,
 "nbformat_minor": 2
}
