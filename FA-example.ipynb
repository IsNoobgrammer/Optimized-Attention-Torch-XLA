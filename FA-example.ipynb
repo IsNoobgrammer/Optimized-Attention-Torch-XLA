{
 "cells": [
  {
   "cell_type": "code",
   "execution_count": null,
   "metadata": {},
   "outputs": [],
   "source": [
    "\n",
    "from fa_xla import XLAFlashAttentionWrapper,FLASH_ATTENTION_AVAILABLE\n",
    "from transformers.models.qwen2.modeling_qwen2 import apply_rotary_pos_emb ## some may have thier own \n",
    "model = AutoModelForCausalLM.from_pretrained(MODEL,torch_dtype=torch.bfloat16,trust_remote_code=True)\n",
    "\n",
    "for layer in model.model.layers:\n",
    "    xs.apply_backward_optimization_barrier(layer)\n",
    "    \n",
    "with torch.no_grad():\n",
    "    if FLASH_ATTENTION_AVAILABLE:\n",
    "        if FLAGS['OPTIMIZER'] == 'adamw': \n",
    "            print(\"Adam or any 2nd order optimizer Doesn't Work with FA with GQA ; use Lion or SGD or Use MHA ;\")\n",
    "        \n",
    "        old_atten_config=[]\n",
    "        \n",
    "        mesh = xs.get_global_mesh() #Currently the mesh is (4,1)\n",
    "        partition_spec = (0, None,None,None) ## Always try to shard along Batch Dimension \n",
    "        \n",
    "        # Replace attention mechanism with XLA Flash Attention\n",
    "        for layer in model.model.layers:\n",
    "            original_attention = layer.self_attn\n",
    "            layer.self_attn = XLAFlashAttentionWrapper(original_attention, mesh, partition_spec,rotary_func=apply_rotary_pos_emb)\n",
    "            old_atten_config.append(original_attention)\n",
    "        print(\"Applied Flash Attention for TPU ; Saved Old Attention config for replacement after training\")\n"
   ]
  },
  {
   "cell_type": "code",
   "execution_count": null,
   "metadata": {},
   "outputs": [],
   "source": [
    "### Train ...."
   ]
  },
  {
   "cell_type": "code",
   "execution_count": null,
   "metadata": {},
   "outputs": [],
   "source": [
    "# Unwrap the XLA Flash Attention\n",
    "model = model.cpu()\n",
    "if FLASH_ATTENTION_AVAILABLE :\n",
    "    try:\n",
    "        for index,attn in enumerate(old_atten_config):\n",
    "            model.model.layers[index].self_attn=attn\n",
    "        print(\"Replaced XLAFLashAttenWrapper With Original Attention Implementation\")\n",
    "    except:\n",
    "        print(\"Unable to Replace XLAFLashAttenWrapper With Original Attention Implementation\")\n",
    "    model = model.cpu()\n",
    "\n"
   ]
  },
  {
   "cell_type": "code",
   "execution_count": null,
   "metadata": {},
   "outputs": [],
   "source": [
    "## model.push_to_hub()\n",
    "## tokenizer.push_to_hub()"
   ]
  }
 ],
 "metadata": {
  "kernelspec": {
   "display_name": "base",
   "language": "python",
   "name": "python3"
  },
  "language_info": {
   "name": "python",
   "version": "3.12.4"
  }
 },
 "nbformat": 4,
 "nbformat_minor": 2
}
