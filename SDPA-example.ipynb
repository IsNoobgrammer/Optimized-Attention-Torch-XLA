{
 "cells": [
  {
   "cell_type": "code",
   "execution_count": null,
   "metadata": {},
   "outputs": [],
   "source": []
  },
  {
   "cell_type": "code",
   "execution_count": null,
   "metadata": {},
   "outputs": [],
   "source": [
    "from sdpa_xla import XLASDPAWrapper,SDPA_ATTENTION_AVAILABLE\n",
    "from transformers.models.qwen2.modeling_qwen2 import apply_rotary_pos_emb\n",
    "\n",
    "model = AutoModelForCausalLM.from_pretrained(MODEL,torch_dtype=torch.bfloat16,trust_remote_code=True)\n",
    "\n",
    "for layer in model.model.layers:\n",
    "    xs.apply_backward_optimization_barrier(layer)\n",
    "    \n",
    "with torch.no_grad():\n",
    "    if SDPA_ATTENTION_AVAILABLE:\n",
    "        old_atten_config=[]\n",
    "        \n",
    "        mesh = xs.get_global_mesh() #Currently the mesh is (4,1)\n",
    "        partition_spec = (0, None,None,None) ## Always try to shard along Batch Dimension \n",
    "        \n",
    "        \"\"\"\n",
    "        Currently not sharding activation ; not showing any improvements ; if improvements are seen then we can shard the activation as well\n",
    "        \"\"\"\n",
    "        \n",
    "        # Replace attention mechanism with XLA Flash Attention\n",
    "        for layer in model.model.layers:\n",
    "            original_attention = layer.self_attn\n",
    "            layer.self_attn = XLASDPAWrapper(original_attention, mesh, partition_spec,rotary_func=apply_rotary_pos_emb)\n",
    "            old_atten_config.append(original_attention)\n",
    "        print(\"Applied SDPA Attention for TPU ; Saved Old Attention config for replacement after training\")\n"
   ]
  },
  {
   "cell_type": "code",
   "execution_count": null,
   "metadata": {},
   "outputs": [],
   "source": [
    "#train..."
   ]
  },
  {
   "cell_type": "code",
   "execution_count": null,
   "metadata": {},
   "outputs": [],
   "source": [
    "# Unwrap the XLA SDPA Attention\n",
    "model = model.cpu()\n",
    "if SDPA_ATTENTION_AVAILABLE :\n",
    "    try:\n",
    "        for index,attn in enumerate(old_atten_config):\n",
    "            model.model.layers[index].self_attn=attn\n",
    "        print(\"Replaced XLASDPAWrapper With Original Attention Implementation\")\n",
    "    except:\n",
    "        print(\"Unable to Replace XLASDPAWrapper With Original Attention Implementation\")\n",
    "    model = model.cpu()"
   ]
  }
 ],
 "metadata": {
  "kernelspec": {
   "display_name": "base",
   "language": "python",
   "name": "python3"
  },
  "language_info": {
   "name": "python",
   "version": "3.12.4"
  }
 },
 "nbformat": 4,
 "nbformat_minor": 2
}
